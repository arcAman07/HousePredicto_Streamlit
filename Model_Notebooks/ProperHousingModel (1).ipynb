{
 "cells": [
  {
   "cell_type": "code",
   "execution_count": 1,
   "id": "75d78b9f",
   "metadata": {},
   "outputs": [],
   "source": [
    "using Pkg"
   ]
  },
  {
   "cell_type": "code",
   "execution_count": 2,
   "id": "d205d573",
   "metadata": {},
   "outputs": [
    {
     "name": "stderr",
     "output_type": "stream",
     "text": [
      "\u001b[32m\u001b[1m    Updating\u001b[22m\u001b[39m registry at `C:\\Users\\amans\\.julia\\registries\\General.toml`\n",
      "\u001b[32m\u001b[1m   Resolving\u001b[22m\u001b[39m package versions...\n",
      "\u001b[32m\u001b[1m  No Changes\u001b[22m\u001b[39m to `C:\\Users\\amans\\.julia\\environments\\v1.7\\Project.toml`\n",
      "\u001b[32m\u001b[1m  No Changes\u001b[22m\u001b[39m to `C:\\Users\\amans\\.julia\\environments\\v1.7\\Manifest.toml`\n"
     ]
    }
   ],
   "source": [
    "Pkg.add(\"Flux\")"
   ]
  },
  {
   "cell_type": "code",
   "execution_count": 3,
   "id": "5c779ba9",
   "metadata": {},
   "outputs": [
    {
     "name": "stderr",
     "output_type": "stream",
     "text": [
      "\u001b[32m\u001b[1m   Resolving\u001b[22m\u001b[39m package versions...\n",
      "\u001b[32m\u001b[1m  No Changes\u001b[22m\u001b[39m to `C:\\Users\\amans\\.julia\\environments\\v1.7\\Project.toml`\n",
      "\u001b[32m\u001b[1m  No Changes\u001b[22m\u001b[39m to `C:\\Users\\amans\\.julia\\environments\\v1.7\\Manifest.toml`\n"
     ]
    }
   ],
   "source": [
    "Pkg.add(\"MLDatasets\")"
   ]
  },
  {
   "cell_type": "code",
   "execution_count": 4,
   "id": "5618c405",
   "metadata": {},
   "outputs": [],
   "source": [
    "using MLDatasets: BostonHousing"
   ]
  },
  {
   "cell_type": "code",
   "execution_count": 5,
   "id": "18caee70",
   "metadata": {},
   "outputs": [
    {
     "data": {
      "text/plain": [
       "\"13×506 Matrix{Float64}\""
      ]
     },
     "execution_count": 5,
     "metadata": {},
     "output_type": "execute_result"
    }
   ],
   "source": [
    "features = BostonHousing.features();\n",
    "\n",
    "summary(features)\n",
    "\"13×506 Matrix{Float64}\""
   ]
  },
  {
   "cell_type": "code",
   "execution_count": 6,
   "id": "1828d89f",
   "metadata": {},
   "outputs": [],
   "source": [
    "target = BostonHousing.targets();"
   ]
  },
  {
   "cell_type": "code",
   "execution_count": 7,
   "id": "79397761",
   "metadata": {},
   "outputs": [],
   "source": [
    "using Flux"
   ]
  },
  {
   "cell_type": "code",
   "execution_count": 8,
   "id": "b3a37d5b",
   "metadata": {},
   "outputs": [
    {
     "data": {
      "text/plain": [
       "Dense(13, 1)        \u001b[90m# 14 parameters\u001b[39m"
      ]
     },
     "execution_count": 8,
     "metadata": {},
     "output_type": "execute_result"
    }
   ],
   "source": [
    "model = Dense(13,1)"
   ]
  },
  {
   "cell_type": "code",
   "execution_count": 9,
   "id": "c2e712d7",
   "metadata": {},
   "outputs": [
    {
     "data": {
      "text/plain": [
       "1×13 Matrix{Float32}:\n",
       " -0.204259  -0.555051  0.281807  0.343935  …  -0.640713  -0.640323  -0.624714"
      ]
     },
     "execution_count": 9,
     "metadata": {},
     "output_type": "execute_result"
    }
   ],
   "source": [
    "model.weight"
   ]
  },
  {
   "cell_type": "code",
   "execution_count": 10,
   "id": "582077d3",
   "metadata": {},
   "outputs": [
    {
     "data": {
      "text/plain": [
       "1-element Vector{Float32}:\n",
       " 0.0"
      ]
     },
     "execution_count": 10,
     "metadata": {},
     "output_type": "execute_result"
    }
   ],
   "source": [
    "model.bias"
   ]
  },
  {
   "cell_type": "code",
   "execution_count": 11,
   "id": "54b8a602",
   "metadata": {},
   "outputs": [
    {
     "data": {
      "text/plain": [
       "1×506 Matrix{Float64}:\n",
       " 24.0  21.6  34.7  33.4  36.2  28.7  …  16.8  22.4  20.6  23.9  22.0  11.9"
      ]
     },
     "execution_count": 11,
     "metadata": {},
     "output_type": "execute_result"
    }
   ],
   "source": [
    "target"
   ]
  },
  {
   "cell_type": "code",
   "execution_count": 12,
   "id": "50e5333f",
   "metadata": {},
   "outputs": [
    {
     "data": {
      "text/plain": [
       "13×506 Matrix{Float64}:\n",
       "   0.00632    0.02731    0.02729  …    0.06076    0.10959    0.04741\n",
       "  18.0        0.0        0.0           0.0        0.0        0.0\n",
       "   2.31       7.07       7.07         11.93      11.93      11.93\n",
       "   0.0        0.0        0.0           0.0        0.0        0.0\n",
       "   0.538      0.469      0.469         0.573      0.573      0.573\n",
       "   6.575      6.421      7.185    …    6.976      6.794      6.03\n",
       "  65.2       78.9       61.1          91.0       89.3       80.8\n",
       "   4.09       4.9671     4.9671        2.1675     2.3889     2.505\n",
       "   1.0        2.0        2.0           1.0        1.0        1.0\n",
       " 296.0      242.0      242.0         273.0      273.0      273.0\n",
       "  15.3       17.8       17.8      …   21.0       21.0       21.0\n",
       " 396.9      396.9      392.83        396.9      393.45     396.9\n",
       "   4.98       9.14       4.03          5.64       6.48       7.88"
      ]
     },
     "execution_count": 12,
     "metadata": {},
     "output_type": "execute_result"
    }
   ],
   "source": [
    "features"
   ]
  },
  {
   "cell_type": "code",
   "execution_count": 13,
   "id": "be0a837e",
   "metadata": {},
   "outputs": [],
   "source": [
    "using Flux: train!"
   ]
  },
  {
   "cell_type": "code",
   "execution_count": 14,
   "id": "00a18bb7",
   "metadata": {},
   "outputs": [
    {
     "name": "stderr",
     "output_type": "stream",
     "text": [
      "\u001b[32m\u001b[1m   Resolving\u001b[22m\u001b[39m package versions...\n",
      "\u001b[32m\u001b[1m  No Changes\u001b[22m\u001b[39m to `C:\\Users\\amans\\.julia\\environments\\v1.7\\Project.toml`\n",
      "\u001b[32m\u001b[1m  No Changes\u001b[22m\u001b[39m to `C:\\Users\\amans\\.julia\\environments\\v1.7\\Manifest.toml`\n"
     ]
    }
   ],
   "source": [
    "Pkg.add(\"Printf\")"
   ]
  },
  {
   "cell_type": "code",
   "execution_count": 15,
   "id": "3134f39c",
   "metadata": {},
   "outputs": [],
   "source": [
    "using Printf"
   ]
  },
  {
   "cell_type": "code",
   "execution_count": 16,
   "id": "3c80abc7",
   "metadata": {},
   "outputs": [
    {
     "data": {
      "text/plain": [
       "Descent(0.1)"
      ]
     },
     "execution_count": 16,
     "metadata": {},
     "output_type": "execute_result"
    }
   ],
   "source": [
    "opt = Descent()"
   ]
  },
  {
   "cell_type": "code",
   "execution_count": 17,
   "id": "5a381cfd",
   "metadata": {},
   "outputs": [
    {
     "data": {
      "text/plain": [
       "13×355 Matrix{Float64}:\n",
       "   0.00632    0.02731    0.02729  …    0.07244    0.01709    0.04301\n",
       "  18.0        0.0        0.0          60.0       90.0       80.0\n",
       "   2.31       7.07       7.07          1.69       2.02       1.91\n",
       "   0.0        0.0        0.0           0.0        0.0        0.0\n",
       "   0.538      0.469      0.469         0.411      0.41       0.413\n",
       "   6.575      6.421      7.185    …    5.884      6.728      5.663\n",
       "  65.2       78.9       61.1          18.5       36.1       21.9\n",
       "   4.09       4.9671     4.9671       10.7103    12.1265    10.5857\n",
       "   1.0        2.0        2.0           4.0        5.0        4.0\n",
       " 296.0      242.0      242.0         411.0      187.0      334.0\n",
       "  15.3       17.8       17.8      …   18.3       17.0       22.0\n",
       " 396.9      396.9      392.83        392.33     384.46     382.8\n",
       "   4.98       9.14       4.03          7.79       4.5        8.05"
      ]
     },
     "execution_count": 17,
     "metadata": {},
     "output_type": "execute_result"
    }
   ],
   "source": [
    "x_train = features[:,1:355]"
   ]
  },
  {
   "cell_type": "code",
   "execution_count": 18,
   "id": "f6a3b46a",
   "metadata": {},
   "outputs": [
    {
     "data": {
      "text/plain": [
       "13×151 Matrix{Float64}:\n",
       "   0.10659    8.98296    3.8497  …    0.06076    0.10959    0.04741\n",
       "  80.0        0.0        0.0          0.0        0.0        0.0\n",
       "   1.91      18.1       18.1         11.93      11.93      11.93\n",
       "   0.0        1.0        1.0          0.0        0.0        0.0\n",
       "   0.413      0.77       0.77         0.573      0.573      0.573\n",
       "   5.936      6.212      6.395   …    6.976      6.794      6.03\n",
       "  19.5       97.4       91.0         91.0       89.3       80.8\n",
       "  10.5857     2.1222     2.5052       2.1675     2.3889     2.505\n",
       "   4.0       24.0       24.0          1.0        1.0        1.0\n",
       " 334.0      666.0      666.0        273.0      273.0      273.0\n",
       "  22.0       20.2       20.2     …   21.0       21.0       21.0\n",
       " 376.04     377.73     391.34       396.9      393.45     396.9\n",
       "   5.57      17.6       13.27         5.64       6.48       7.88"
      ]
     },
     "execution_count": 18,
     "metadata": {},
     "output_type": "execute_result"
    }
   ],
   "source": [
    "x_test = features[:,356:506]"
   ]
  },
  {
   "cell_type": "code",
   "execution_count": 19,
   "id": "04bf02b7",
   "metadata": {},
   "outputs": [
    {
     "data": {
      "text/plain": [
       "1×355 Matrix{Float64}:\n",
       " 24.0  21.6  34.7  33.4  36.2  28.7  …  26.6  22.9  24.1  18.6  30.1  18.2"
      ]
     },
     "execution_count": 19,
     "metadata": {},
     "output_type": "execute_result"
    }
   ],
   "source": [
    "y_train = target[:,1:355]"
   ]
  },
  {
   "cell_type": "code",
   "execution_count": 20,
   "id": "37c046cc",
   "metadata": {},
   "outputs": [
    {
     "data": {
      "text/plain": [
       "1×151 Matrix{Float64}:\n",
       " 20.6  17.8  21.7  22.7  22.6  25.0  …  16.8  22.4  20.6  23.9  22.0  11.9"
      ]
     },
     "execution_count": 20,
     "metadata": {},
     "output_type": "execute_result"
    }
   ],
   "source": [
    "y_test = target[:,356:506]"
   ]
  },
  {
   "cell_type": "code",
   "execution_count": 21,
   "id": "3032cd06",
   "metadata": {},
   "outputs": [
    {
     "data": {
      "text/plain": [
       "loss (generic function with 1 method)"
      ]
     },
     "execution_count": 21,
     "metadata": {},
     "output_type": "execute_result"
    }
   ],
   "source": [
    "loss(x, y) = Flux.Losses.mse(model(x), y)"
   ]
  },
  {
   "cell_type": "code",
   "execution_count": 22,
   "id": "7bfba409",
   "metadata": {},
   "outputs": [
    {
     "data": {
      "text/plain": [
       "178200.04162267002"
      ]
     },
     "execution_count": 22,
     "metadata": {},
     "output_type": "execute_result"
    }
   ],
   "source": [
    "loss(x_train,y_train)"
   ]
  },
  {
   "cell_type": "code",
   "execution_count": 23,
   "id": "06040c66",
   "metadata": {},
   "outputs": [
    {
     "data": {
      "text/plain": [
       "1-element Vector{Tuple{Matrix{Float64}, Matrix{Float64}}}:\n",
       " ([0.00632 0.02731 … 0.01709 0.04301; 18.0 0.0 … 90.0 80.0; … ; 396.9 396.9 … 384.46 382.8; 4.98 9.14 … 4.5 8.05], [24.0 21.6 … 30.1 18.2])"
      ]
     },
     "execution_count": 23,
     "metadata": {},
     "output_type": "execute_result"
    }
   ],
   "source": [
    "data = [(x_train,y_train)]"
   ]
  },
  {
   "cell_type": "code",
   "execution_count": 24,
   "id": "ef198154",
   "metadata": {},
   "outputs": [
    {
     "data": {
      "text/plain": [
       "Params([Float32[-0.20425875 -0.55505073 … -0.6403233 -0.6247145], Float32[0.0]])"
      ]
     },
     "execution_count": 24,
     "metadata": {},
     "output_type": "execute_result"
    }
   ],
   "source": [
    "parameters = Flux.params(model)"
   ]
  },
  {
   "cell_type": "code",
   "execution_count": 25,
   "id": "4ffd2f8a",
   "metadata": {},
   "outputs": [],
   "source": [
    "# train!(loss, parameters, data, opt)"
   ]
  },
  {
   "cell_type": "code",
   "execution_count": 26,
   "id": "b580d967",
   "metadata": {},
   "outputs": [
    {
     "data": {
      "text/plain": [
       "Params([Float32[-0.20425875 -0.55505073 … -0.6403233 -0.6247145], Float32[0.0]])"
      ]
     },
     "execution_count": 26,
     "metadata": {},
     "output_type": "execute_result"
    }
   ],
   "source": [
    "parameters"
   ]
  },
  {
   "cell_type": "code",
   "execution_count": 27,
   "id": "0e4782c9",
   "metadata": {},
   "outputs": [],
   "source": [
    "train!(loss, parameters, data, opt)"
   ]
  },
  {
   "cell_type": "code",
   "execution_count": 28,
   "id": "e0ef2c5d",
   "metadata": {},
   "outputs": [
    {
     "data": {
      "text/plain": [
       "4.3577601021121094e14"
      ]
     },
     "execution_count": 28,
     "metadata": {},
     "output_type": "execute_result"
    }
   ],
   "source": [
    "loss(x_train, y_train)"
   ]
  },
  {
   "cell_type": "code",
   "execution_count": 29,
   "id": "fdd9e9f2",
   "metadata": {},
   "outputs": [
    {
     "data": {
      "text/plain": [
       "Params([Float32[31.674286 1462.8179 … 32128.56 853.42365], Float32[83.951584]])"
      ]
     },
     "execution_count": 29,
     "metadata": {},
     "output_type": "execute_result"
    }
   ],
   "source": [
    "parameters"
   ]
  },
  {
   "cell_type": "code",
   "execution_count": 30,
   "id": "98168082",
   "metadata": {},
   "outputs": [
    {
     "data": {
      "text/plain": [
       "7.499446651503031e14"
      ]
     },
     "execution_count": 30,
     "metadata": {},
     "output_type": "execute_result"
    }
   ],
   "source": [
    "loss(x_test,y_test)"
   ]
  },
  {
   "cell_type": "code",
   "execution_count": 31,
   "id": "81414bc6",
   "metadata": {},
   "outputs": [],
   "source": [
    "using BSON: @save"
   ]
  },
  {
   "cell_type": "code",
   "execution_count": 32,
   "id": "500b75ed",
   "metadata": {},
   "outputs": [],
   "source": [
    "@save \"mymodel.bson\" model"
   ]
  }
 ],
 "metadata": {
  "kernelspec": {
   "display_name": "Julia 1.7.1",
   "language": "julia",
   "name": "julia-1.7"
  },
  "language_info": {
   "file_extension": ".jl",
   "mimetype": "application/julia",
   "name": "julia",
   "version": "1.7.1"
  }
 },
 "nbformat": 4,
 "nbformat_minor": 5
}
